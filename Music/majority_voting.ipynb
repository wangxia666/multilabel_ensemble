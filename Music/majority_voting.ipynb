{
 "cells": [
  {
   "cell_type": "code",
   "execution_count": 1,
   "metadata": {
    "collapsed": true
   },
   "outputs": [],
   "source": [
    "#importing modules\n",
    "import numpy as np\n",
    "import pandas as pd\n",
    "from sklearn.linear_model import LogisticRegression\n",
    "from sklearn.model_selection import KFold\n",
    "import random, arff\n",
    "import os, sys, subprocess"
   ]
  },
  {
   "cell_type": "code",
   "execution_count": 2,
   "metadata": {
    "collapsed": true
   },
   "outputs": [],
   "source": [
    "file_name = os.listdir(\".\")\n",
    "#number of labels\n",
    "col = list(range(0, 6))"
   ]
  },
  {
   "cell_type": "code",
   "execution_count": 3,
   "metadata": {
    "collapsed": true
   },
   "outputs": [],
   "source": [
    "#importing the files\n",
    "test = pd.read_csv('Music_a_test1.arff',sep=',',header=None).iloc[:,col]\n",
    "BR   = pd.read_csv('BR-Music_a_test1.arff',sep=',',header=None).iloc[:,col]\n",
    "CC   = pd.read_csv('CC-Music_a_test1.arff',sep=',',header=None).iloc[:,col]\n",
    "CDN  = pd.read_csv('CDN-Music_a_test1.arff',sep=',',header=None).iloc[:,col]\n",
    "CDT  = pd.read_csv('CDT-Music_a_test1.arff',sep=',',header=None).iloc[:,col]\n",
    "CT   = pd.read_csv('CT-Music_a_test1.arff',sep=',',header=None).iloc[:,col]"
   ]
  },
  {
   "cell_type": "code",
   "execution_count": 4,
   "metadata": {
    "collapsed": true
   },
   "outputs": [],
   "source": [
    "majority_voting = pd.DataFrame([])\n",
    "for x in range(len(test)):\n",
    "    data_row = pd.DataFrame(pd.concat([BR.iloc[[x]],CC.iloc[[x]],CDN.iloc[[x]],CDT.iloc[[x]],CT.iloc[[x]]], axis = 0 ))\n",
    "    vote = data_row.mode()  \n",
    "    majority_voting = majority_voting.append(vote)"
   ]
  },
  {
   "cell_type": "code",
   "execution_count": 5,
   "metadata": {
    "collapsed": true
   },
   "outputs": [],
   "source": [
    "def pre_cal(y_true, y_pred, print_all = False):\n",
    "    if(y_true.shape != y_pred.shape):\n",
    "        print(\"Wrong y_preds matrics!\")\n",
    "\n",
    "    real_pos = real_neg = pred_pos = pred_neg  = true_pos = true_neg = []\n",
    "\n",
    "    for i in range(y_true.shape[0]):\n",
    "        # real values - RP and RN\n",
    "        real_pos = np.asarray(np.append(real_pos,np.logical_and(y_true[i], y_true[i]).sum()), dtype=np.int64).reshape(-1,1)\n",
    "        real_neg = np.asarray(np.append(real_neg,np.logical_and(np.logical_not(y_true[i]),np.logical_not(y_true[i])).sum()), dtype=np.int64).reshape(-1,1)\n",
    "\n",
    "        # y_pred values - PP and PN\n",
    "        pred_pos = np.asarray(np.append(pred_pos,np.logical_and(y_pred[i], y_pred[i]).sum()),dtype=np.int64).reshape(-1,1)\n",
    "        pred_neg = np.asarray(np.append(pred_neg,np.logical_and(np.logical_not(y_pred[i]), np.logical_not(y_pred[i])).sum()),dtype=np.int64).reshape(-1,1)\n",
    "\n",
    "        # true labels - TP and TN\n",
    "        true_pos = np.asarray(np.append(true_pos,np.logical_and(y_true[i], y_pred[i]).sum()),dtype=np.int64).reshape(-1,1)\n",
    "        true_neg = np.asarray(np.append(true_neg,np.logical_and(np.logical_not(y_true[i]), np.logical_not(y_pred[i])).sum()),dtype=np.int64).reshape(-1,1)\n",
    "\n",
    "    if print_all:\n",
    "\t\t# if print_all = True - it prints RP, RN, PP, PN, TP and TN\n",
    "        result = np.concatenate((real_pos, real_neg, pred_pos, pred_neg, true_pos, true_neg), axis=1)\n",
    "        print(result)\n",
    "\n",
    "    return(real_pos, real_neg, pred_pos, pred_neg, true_pos, true_neg)\n",
    "\n",
    "#function to resolve divide by zero error and accept the value 0 when divided by 0\n",
    "def divideZero( value_a, value_b):\n",
    "    with np.errstate(divide='ignore', invalid='ignore'):\n",
    "        result = np.true_divide( value_a, value_b )\n",
    "        result[ ~ np.isfinite( result )] = 0\n",
    "    return result\n",
    "\n",
    "def accuracy(y_true, y_pred):\n",
    "    #return the accuracy - example based\n",
    "    real_pos, real_neg, pred_pos, pred_neg, true_pos, true_neg = pre_cal(y_true,y_pred)\n",
    "    score = (true_pos + true_neg)/(pred_pos + pred_neg)\n",
    "    score = np.mean(score)\n",
    "    return score\n",
    "\n",
    "\n",
    "def precision(y_true, y_pred):\n",
    "    #return precision - example based\n",
    "    real_pos, real_neg, pred_pos, pred_neg, true_pos, true_neg = pre_cal(y_true,y_pred)\n",
    "    score = divideZero(true_pos, pred_pos)\n",
    "    score = np.mean(score)\n",
    "    return score\n",
    "\n",
    "def recall(y_true, y_pred):\n",
    "    #return precision - example based\n",
    "    real_pos, real_neg, pred_pos, pred_neg, true_pos, true_neg = pre_cal(y_true,y_pred)\n",
    "    score = divideZero(true_pos, real_pos)\n",
    "    score = np.mean(score)\n",
    "    return score\n",
    "\n",
    "\n",
    "def fscore(y_true, y_pred,beta = 1):\n",
    "\t#return f(beta)score - example based : default beta value is 1\n",
    "    prec, rec = precision(y_true, y_pred), recall(y_true, y_pred)\n",
    "    beta_val = beta*beta\n",
    "    score = ((1+beta_val)*(prec*rec))/(beta_val*(prec+rec))\n",
    "    return score\n",
    "\n",
    "\n",
    "def hamloss(y_true, y_pred):\n",
    "\t#return hamming loss - example based\n",
    "    hamloss = list()\n",
    "    for i in range(y_true.shape[0]):\n",
    "        hamloss = np.asarray(np.append(hamloss,np.logical_xor(y_true[i], y_pred[i]).sum()), dtype=np.int64).reshape(-1,1)\n",
    "    score = (hamloss.sum())/((y_true.shape[0])*(y_true.shape[1]))\n",
    "    return score\n",
    "\n",
    "\n",
    "def subset(y_true, y_pred):\n",
    "\t#return subset accuracy - example based\n",
    "    subset_matrix = list()\n",
    "    for i in range(y_true.shape[0]):\n",
    "        subset_matrix = np.asarray(np.append(subset_matrix, np.array_equal(y_true[i],y_pred[i])), dtype=np.int64).reshape(-1,1)\n",
    "    score = (subset_matrix.sum())/((y_true.shape[0])*(y_true.shape[1]))\n",
    "    return score\n",
    "\n",
    "def zeroloss(y_true, y_pred):\n",
    "    #return new array with removed element having all zero in y_true\n",
    "    condition = list()\n",
    "    index = list()\n",
    "    for i in range(y_true.shape[0]):\n",
    "        new_true = new_pred = list()\n",
    "        condition = np.logical_and(y_true[i],y_true[i]).sum()\n",
    "        if (condition==0):\n",
    "            index = np.asarray(np.append(index,i), dtype = np.int64)\n",
    "\n",
    "        new_true = np.delete(y_true,index, axis = 0)\n",
    "        new_pred = np.delete(y_pred,index, axis = 0)\n",
    "    return new_true, new_pred\n",
    "\n",
    "def microprecision(y_true, y_pred):\n",
    "    #return micro-precision\n",
    "    real_pos, real_neg, pred_pos, pred_neg, true_pos, true_neg = pre_cal(y_true,y_pred)\n",
    "    score = true_pos.sum()/pred_pos.sum()\n",
    "    return score\n",
    "\n",
    "def microrecall(y_true, y_pred):\n",
    "    #return micro-recall\n",
    "    real_pos, real_neg, pred_pos, pred_neg, true_pos, true_neg = pre_cal(y_true,y_pred)\n",
    "    score = true_pos.sum()/real_pos.sum()\n",
    "    return score\n",
    "\n",
    "def microfscore(y_true, y_pred,beta = 1):\n",
    "    #return micro-fscore\n",
    "    prec, rec = microprecision(y_true, y_pred), microrecall(y_true, y_pred)\n",
    "    beta_val = beta*beta\n",
    "    score = ((1+beta_val)*(prec*rec))/(beta_val*(prec+rec))\n",
    "    return score\n",
    "\n",
    "def macroprecision(y_true, y_pred):\n",
    "    #return macro-precision\n",
    "    real_pos, real_neg, pred_pos, pred_neg, true_pos, true_neg = pre_cal(y_true,y_pred)\n",
    "    score = divideZero(true_pos, pred_pos)\n",
    "    return score\n",
    "\n",
    "def macrorecall(y_true, y_pred):\n",
    "    #return macro-recall\n",
    "    real_pos, real_neg, pred_pos, pred_neg, true_pos, true_neg = pre_cal(y_true,y_pred)\n",
    "    score = divideZero(true_pos, real_pos)\n",
    "    return score\n",
    "\n",
    "def macrofscore(y_true, y_pred,beta = 1):\n",
    "    #return macro-fscore\n",
    "    prec, rec = macroprecision(y_true, y_pred), macrorecall(y_true, y_pred)\n",
    "    beta_val = beta*beta\n",
    "    score = divideZero(((1+beta_val)*(prec*rec)),(beta_val*(prec+rec)))\n",
    "    score = np.mean(score)\n",
    "    return score\n",
    "\n",
    "def calculate_all(np_test, np_pred):\n",
    "    print(\"Accuracy : {}\".format(accuracy(np_test,np_pred)))\n",
    "    print(\"Precision: {}\".format(precision(np_test,np_pred)))\n",
    "    print(\"Recall   : {}\".format(recall(np_test,np_pred)))\n",
    "    print(\"F1-Score : {}\".format(fscore(np_test,np_pred)))\n",
    "    print(\"HammingL : {}\".format(hamloss(np_test,np_pred)))\n",
    "    print(\"Subset   : {}\".format(subset(np_test,np_pred)))\n",
    "    print(\"Micro - F1-Score : {}\".format(microfscore(np_test,np_pred)))\n",
    "    print(\"Macro - F1-Score : {}\".format(macrofscore(np_test,np_pred)))"
   ]
  },
  {
   "cell_type": "code",
   "execution_count": 6,
   "metadata": {},
   "outputs": [
    {
     "name": "stdout",
     "output_type": "stream",
     "text": [
      "Accuracy : 0.7668350168350168\n",
      "Precision: 0.5946969696969697\n",
      "Recall   : 0.6085858585858586\n",
      "F1-Score : 0.6015612579096314\n",
      "HammingL : 0.23316498316498316\n",
      "Subset   : 0.037037037037037035\n",
      "Micro - F1-Score : 0.6231292517006803\n",
      "Macro - F1-Score : 0.5715969215969215\n"
     ]
    }
   ],
   "source": [
    "#result form majority voting\n",
    "np_test = test.values\n",
    "np_pred = majority_voting.values\n",
    "calculate_all(np_test, np_pred)"
   ]
  }
 ],
 "metadata": {
  "kernelspec": {
   "display_name": "Python 3",
   "language": "python",
   "name": "python3"
  },
  "language_info": {
   "codemirror_mode": {
    "name": "ipython",
    "version": 3
   },
   "file_extension": ".py",
   "mimetype": "text/x-python",
   "name": "python",
   "nbconvert_exporter": "python",
   "pygments_lexer": "ipython3",
   "version": "3.5.2"
  }
 },
 "nbformat": 4,
 "nbformat_minor": 2
}
